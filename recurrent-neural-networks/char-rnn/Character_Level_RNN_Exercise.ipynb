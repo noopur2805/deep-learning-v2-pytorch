{
 "cells": [
  {
   "cell_type": "markdown",
   "metadata": {},
   "source": [
    "# Character-Level LSTM in PyTorch\n",
    "\n",
    "In this notebook, I'll construct a character-level LSTM with PyTorch. The network will train character by character on some text, then generate new text character by character. As an example, I will train on Anna Karenina. **This model will be able to generate new text based on the text from the book!**\n",
    "\n",
    "This network is based off of Andrej Karpathy's [post on RNNs](http://karpathy.github.io/2015/05/21/rnn-effectiveness/) and [implementation in Torch](https://github.com/karpathy/char-rnn). Below is the general architecture of the character-wise RNN.\n",
    "\n",
    "<img src=\"assets/charseq.jpeg\" width=\"500\">"
   ]
  },
  {
   "cell_type": "markdown",
   "metadata": {},
   "source": [
    "First let's load in our required resources for data loading and model creation."
   ]
  },
  {
   "cell_type": "code",
   "execution_count": 1,
   "metadata": {},
   "outputs": [],
   "source": [
    "import numpy as np\n",
    "import torch\n",
    "from torch import nn\n",
    "import torch.nn.functional as F"
   ]
  },
  {
   "cell_type": "markdown",
   "metadata": {},
   "source": [
    "## Load in Data\n",
    "\n",
    "Then, we'll load the Anna Karenina text file and convert it into integers for our network to use. "
   ]
  },
  {
   "cell_type": "code",
   "execution_count": 2,
   "metadata": {},
   "outputs": [],
   "source": [
    "# open text file and read in data as `text`\n",
    "with open('data/anna.txt', 'r') as f:\n",
    "    text = f.read()"
   ]
  },
  {
   "cell_type": "markdown",
   "metadata": {},
   "source": [
    "Let's check out the first 100 characters, make sure everything is peachy. According to the [American Book Review](http://americanbookreview.org/100bestlines.asp), this is the 6th best first line of a book ever."
   ]
  },
  {
   "cell_type": "code",
   "execution_count": 3,
   "metadata": {},
   "outputs": [
    {
     "data": {
      "text/plain": [
       "'Chapter 1\\n\\n\\nHappy families are all alike; every unhappy family is unhappy in its own\\nway.\\n\\nEverythin'"
      ]
     },
     "execution_count": 3,
     "metadata": {},
     "output_type": "execute_result"
    }
   ],
   "source": [
    "text[:100]"
   ]
  },
  {
   "cell_type": "markdown",
   "metadata": {},
   "source": [
    "### Tokenization\n",
    "\n",
    "In the cells, below, I'm creating a couple **dictionaries** to convert the characters to and from integers. Encoding the characters as integers makes it easier to use as input in the network."
   ]
  },
  {
   "cell_type": "code",
   "execution_count": 4,
   "metadata": {},
   "outputs": [],
   "source": [
    "# encode the text and map each character to an integer and vice versa\n",
    "\n",
    "# we create two dictionaries:\n",
    "# 1. int2char, which maps integers to characters\n",
    "# 2. char2int, which maps characters to unique integers\n",
    "chars = tuple(set(text))\n",
    "int2char = dict(enumerate(chars))\n",
    "char2int = {ch: ii for ii, ch in int2char.items()}\n",
    "\n",
    "# encode the text\n",
    "encoded = np.array([char2int[ch] for ch in text])"
   ]
  },
  {
   "cell_type": "markdown",
   "metadata": {},
   "source": [
    "And we can see those same characters from above, encoded as integers."
   ]
  },
  {
   "cell_type": "code",
   "execution_count": 5,
   "metadata": {},
   "outputs": [
    {
     "data": {
      "text/plain": [
       "array([51, 40, 72, 23, 12,  3, 44, 37, 10, 27, 27, 27, 45, 72, 23, 23, 49,\n",
       "       37,  4, 72, 50,  8, 38,  8,  3, 77, 37, 72, 44,  3, 37, 72, 38, 38,\n",
       "       37, 72, 38,  8, 70,  3, 13, 37,  3, 63,  3, 44, 49, 37, 15,  0, 40,\n",
       "       72, 23, 23, 49, 37,  4, 72, 50,  8, 38, 49, 37,  8, 77, 37, 15,  0,\n",
       "       40, 72, 23, 23, 49, 37,  8,  0, 37,  8, 12, 77, 37, 53, 20,  0, 27,\n",
       "       20, 72, 49, 52, 27, 27, 66, 63,  3, 44, 49, 12, 40,  8,  0])"
      ]
     },
     "execution_count": 5,
     "metadata": {},
     "output_type": "execute_result"
    }
   ],
   "source": [
    "encoded[:100]"
   ]
  },
  {
   "cell_type": "markdown",
   "metadata": {},
   "source": [
    "## Pre-processing the data\n",
    "\n",
    "As you can see in our char-RNN image above, our LSTM expects an input that is **one-hot encoded** meaning that each character is converted into an integer (via our created dictionary) and *then* converted into a column vector where only it's corresponding integer index will have the value of 1 and the rest of the vector will be filled with 0's. Since we're one-hot encoding the data, let's make a function to do that!\n"
   ]
  },
  {
   "cell_type": "code",
   "execution_count": 6,
   "metadata": {},
   "outputs": [],
   "source": [
    "def one_hot_encode(arr, n_labels):\n",
    "    \n",
    "    # Initialize the the encoded array\n",
    "    one_hot = np.zeros((np.multiply(*arr.shape), n_labels), dtype=np.float32)\n",
    "    \n",
    "    # Fill the appropriate elements with ones\n",
    "    one_hot[np.arange(one_hot.shape[0]), arr.flatten()] = 1.\n",
    "    \n",
    "    # Finally reshape it to get back to the original array\n",
    "    one_hot = one_hot.reshape((*arr.shape, n_labels))\n",
    "    \n",
    "    return one_hot"
   ]
  },
  {
   "cell_type": "code",
   "execution_count": 7,
   "metadata": {},
   "outputs": [
    {
     "name": "stdout",
     "output_type": "stream",
     "text": [
      "[[[0. 0. 0. 1. 0. 0. 0. 0.]\n",
      "  [0. 0. 0. 0. 0. 1. 0. 0.]\n",
      "  [0. 1. 0. 0. 0. 0. 0. 0.]]]\n"
     ]
    }
   ],
   "source": [
    "# check that the function works as expected\n",
    "test_seq = np.array([[3, 5, 1]])\n",
    "one_hot = one_hot_encode(test_seq, 8)\n",
    "\n",
    "print(one_hot)"
   ]
  },
  {
   "cell_type": "markdown",
   "metadata": {},
   "source": [
    "## Making training mini-batches\n",
    "\n",
    "\n",
    "To train on this data, we also want to create mini-batches for training. Remember that we want our batches to be multiple sequences of some desired number of sequence steps. Considering a simple example, our batches would look like this:\n",
    "\n",
    "<img src=\"assets/sequence_batching@1x.png\" width=500px>\n",
    "\n",
    "\n",
    "<br>\n",
    "\n",
    "In this example, we'll take the encoded characters (passed in as the `arr` parameter) and split them into multiple sequences, given by `batch_size`. Each of our sequences will be `seq_length` long.\n",
    "\n",
    "### Creating Batches\n",
    "\n",
    "**1. The first thing we need to do is discard some of the text so we only have completely full mini-batches. **\n",
    "\n",
    "Each batch contains $N \\times M$ characters, where $N$ is the batch size (the number of sequences in a batch) and $M$ is the seq_length or number of time steps in a sequence. Then, to get the total number of batches, $K$, that we can make from the array `arr`, you divide the length of `arr` by the number of characters per batch. Once you know the number of batches, you can get the total number of characters to keep from `arr`, $N * M * K$.\n",
    "\n",
    "**2. After that, we need to split `arr` into $N$ batches. ** \n",
    "\n",
    "You can do this using `arr.reshape(size)` where `size` is a tuple containing the dimensions sizes of the reshaped array. We know we want $N$ sequences in a batch, so let's make that the size of the first dimension. For the second dimension, you can use `-1` as a placeholder in the size, it'll fill up the array with the appropriate data for you. After this, you should have an array that is $N \\times (M * K)$.\n",
    "\n",
    "**3. Now that we have this array, we can iterate through it to get our mini-batches. **\n",
    "\n",
    "The idea is each batch is a $N \\times M$ window on the $N \\times (M * K)$ array. For each subsequent batch, the window moves over by `seq_length`. We also want to create both the input and target arrays. Remember that the targets are just the inputs shifted over by one character. The way I like to do this window is use `range` to take steps of size `n_steps` from $0$ to `arr.shape[1]`, the total number of tokens in each sequence. That way, the integers you get from `range` always point to the start of a batch, and each window is `seq_length` wide.\n",
    "\n",
    "> **TODO:** Write the code for creating batches in the function below. The exercises in this notebook _will not be easy_. I've provided a notebook with solutions alongside this notebook. If you get stuck, checkout the solutions. The most important thing is that you don't copy and paste the code into here, **type out the solution code yourself.**"
   ]
  },
  {
   "cell_type": "code",
   "execution_count": 8,
   "metadata": {
    "scrolled": true
   },
   "outputs": [],
   "source": [
    "def get_batches(arr, batch_size, seq_length):\n",
    "    '''Create a generator that returns batches of size\n",
    "       batch_size x seq_length from arr.\n",
    "       \n",
    "       Arguments\n",
    "       ---------\n",
    "       arr: Array you want to make batches from\n",
    "       batch_size: Batch size, the number of sequences per batch\n",
    "       seq_length: Number of encoded chars in a sequence\n",
    "    '''\n",
    "    \n",
    "    ## TODO: Get the number of batches we can make\n",
    "    batch_size_total = seq_length * batch_size\n",
    "    n_batches = len(arr) // batch_size_total\n",
    "    \n",
    "    ## TODO: Keep only enough characters to make full batches\n",
    "    arr = arr[: n_batches * batch_size_total]\n",
    "    \n",
    "    ## TODO: Reshape into batch_size rows\n",
    "    arr = arr.reshape((batch_size, -1))\n",
    "    \n",
    "    ## TODO: Iterate over the batches using a window of size seq_length\n",
    "    for n in range(0, arr.shape[1], seq_length):\n",
    "        # The features\n",
    "        x = arr[:, n:n+seq_length]\n",
    "        # The targets, shifted by one\n",
    "        y = np.zeros_like(x)\n",
    "        try:\n",
    "            y[:, :-1], y[:, -1] = x[:, 1:], arr[:, n+seq_length]\n",
    "        except IndexError:\n",
    "            y[:, :-1], y[:, -1] = x[:, 1:], arr[:, 0]\n",
    "        yield x, y"
   ]
  },
  {
   "cell_type": "markdown",
   "metadata": {},
   "source": [
    "### Test Your Implementation\n",
    "\n",
    "Now I'll make some data sets and we can check out what's going on as we batch data. Here, as an example, I'm going to use a batch size of 8 and 50 sequence steps."
   ]
  },
  {
   "cell_type": "code",
   "execution_count": 9,
   "metadata": {},
   "outputs": [],
   "source": [
    "batches = get_batches(encoded, 8, 50)\n",
    "x, y = next(batches)"
   ]
  },
  {
   "cell_type": "code",
   "execution_count": 10,
   "metadata": {},
   "outputs": [
    {
     "name": "stdout",
     "output_type": "stream",
     "text": [
      "x\n",
      " [[51 40 72 23 12  3 44 37 10 27]\n",
      " [77 53  0 37 12 40 72 12 37 72]\n",
      " [ 3  0 16 37 53 44 37 72 37  4]\n",
      " [77 37 12 40  3 37 29 40  8  3]\n",
      " [37 77 72 20 37 40  3 44 37 12]\n",
      " [29 15 77 77  8 53  0 37 72  0]\n",
      " [37 39  0  0 72 37 40 72 16 37]\n",
      " [25 67 38 53  0 77 70 49 52 37]]\n",
      "\n",
      "y\n",
      " [[40 72 23 12  3 44 37 10 27 27]\n",
      " [53  0 37 12 40 72 12 37 72 12]\n",
      " [ 0 16 37 53 44 37 72 37  4 53]\n",
      " [37 12 40  3 37 29 40  8  3  4]\n",
      " [77 72 20 37 40  3 44 37 12  3]\n",
      " [15 77 77  8 53  0 37 72  0 16]\n",
      " [39  0  0 72 37 40 72 16 37 77]\n",
      " [67 38 53  0 77 70 49 52 37 76]]\n"
     ]
    }
   ],
   "source": [
    "# printing out the first 10 items in a sequence\n",
    "print('x\\n', x[:10, :10])\n",
    "print('\\ny\\n', y[:10, :10])"
   ]
  },
  {
   "cell_type": "markdown",
   "metadata": {},
   "source": [
    "If you implemented `get_batches` correctly, the above output should look something like \n",
    "```\n",
    "x\n",
    " [[25  8 60 11 45 27 28 73  1  2]\n",
    " [17  7 20 73 45  8 60 45 73 60]\n",
    " [27 20 80 73  7 28 73 60 73 65]\n",
    " [17 73 45  8 27 73 66  8 46 27]\n",
    " [73 17 60 12 73  8 27 28 73 45]\n",
    " [66 64 17 17 46  7 20 73 60 20]\n",
    " [73 76 20 20 60 73  8 60 80 73]\n",
    " [47 35 43  7 20 17 24 50 37 73]]\n",
    "\n",
    "y\n",
    " [[ 8 60 11 45 27 28 73  1  2  2]\n",
    " [ 7 20 73 45  8 60 45 73 60 45]\n",
    " [20 80 73  7 28 73 60 73 65  7]\n",
    " [73 45  8 27 73 66  8 46 27 65]\n",
    " [17 60 12 73  8 27 28 73 45 27]\n",
    " [64 17 17 46  7 20 73 60 20 80]\n",
    " [76 20 20 60 73  8 60 80 73 17]\n",
    " [35 43  7 20 17 24 50 37 73 36]]\n",
    " ```\n",
    " although the exact numbers may be different. Check to make sure the data is shifted over one step for `y`."
   ]
  },
  {
   "cell_type": "markdown",
   "metadata": {},
   "source": [
    "---\n",
    "## Defining the network with PyTorch\n",
    "\n",
    "Below is where you'll define the network.\n",
    "\n",
    "<img src=\"assets/charRNN.png\" width=500px>\n",
    "\n",
    "Next, you'll use PyTorch to define the architecture of the network. We start by defining the layers and operations we want. Then, define a method for the forward pass. You've also been given a method for predicting characters."
   ]
  },
  {
   "cell_type": "markdown",
   "metadata": {},
   "source": [
    "### Model Structure\n",
    "\n",
    "In `__init__` the suggested structure is as follows:\n",
    "* Create and store the necessary dictionaries (this has been done for you)\n",
    "* Define an LSTM layer that takes as params: an input size (the number of characters), a hidden layer size `n_hidden`, a number of layers `n_layers`, a dropout probability `drop_prob`, and a batch_first boolean (True, since we are batching)\n",
    "* Define a dropout layer with `dropout_prob`\n",
    "* Define a fully-connected layer with params: input size `n_hidden` and output size (the number of characters)\n",
    "* Finally, initialize the weights (again, this has been given)\n",
    "\n",
    "Note that some parameters have been named and given in the `__init__` function, and we use them and store them by doing something like `self.drop_prob = drop_prob`."
   ]
  },
  {
   "cell_type": "markdown",
   "metadata": {},
   "source": [
    "---\n",
    "### LSTM Inputs/Outputs\n",
    "\n",
    "You can create a basic [LSTM layer](https://pytorch.org/docs/stable/nn.html#lstm) as follows\n",
    "\n",
    "```python\n",
    "self.lstm = nn.LSTM(input_size, n_hidden, n_layers, \n",
    "                            dropout=drop_prob, batch_first=True)\n",
    "```\n",
    "\n",
    "where `input_size` is the number of characters this cell expects to see as sequential input, and `n_hidden` is the number of units in the hidden layers in the cell. And we can add dropout by adding a dropout parameter with a specified probability; this will automatically add dropout to the inputs or outputs. Finally, in the `forward` function, we can stack up the LSTM cells into layers using `.view`. With this, you pass in a list of cells and it will send the output of one cell into the next cell.\n",
    "\n",
    "We also need to create an initial hidden state of all zeros. This is done like so\n",
    "\n",
    "```python\n",
    "self.init_hidden()\n",
    "```"
   ]
  },
  {
   "cell_type": "code",
   "execution_count": 11,
   "metadata": {},
   "outputs": [
    {
     "name": "stdout",
     "output_type": "stream",
     "text": [
      "Training on GPU!\n"
     ]
    }
   ],
   "source": [
    "# check if GPU is available\n",
    "train_on_gpu = torch.cuda.is_available()\n",
    "if(train_on_gpu):\n",
    "    print('Training on GPU!')\n",
    "else: \n",
    "    print('No GPU available, training on CPU; consider making n_epochs very small.')"
   ]
  },
  {
   "cell_type": "code",
   "execution_count": 12,
   "metadata": {},
   "outputs": [],
   "source": [
    "class CharRNN(nn.Module):\n",
    "    \n",
    "    def __init__(self, tokens, n_hidden=256, n_layers=2,\n",
    "                               drop_prob=0.5, lr=0.001):\n",
    "        super().__init__()\n",
    "        self.drop_prob = drop_prob\n",
    "        self.n_layers = n_layers\n",
    "        self.n_hidden = n_hidden\n",
    "        self.lr = lr\n",
    "        \n",
    "        # creating character dictionaries\n",
    "        self.chars = tokens\n",
    "        self.int2char = dict(enumerate(self.chars))\n",
    "        self.char2int = {ch: ii for ii, ch in self.int2char.items()}\n",
    "        \n",
    "        ## TODO: define the layers of the model\n",
    "        self.lstm = nn.LSTM(len(self.chars), n_hidden, n_layers, dropout=drop_prob, batch_first=True)\n",
    "        self.dropout = nn.Dropout(drop_prob)\n",
    "        self.fc = nn.Linear(n_hidden, len(self.chars))\n",
    "    \n",
    "    def forward(self, x, hidden):\n",
    "        ''' Forward pass through the network. \n",
    "            These inputs are x, and the hidden/cell state `hidden`. '''\n",
    "                \n",
    "        ## TODO: Get the outputs and the new hidden state from the lstm\n",
    "        r_output, hidden = self.lstm(x, hidden)\n",
    "        out = self.dropout(r_output)\n",
    "        out = out.contiguous().view((-1, self.n_hidden))\n",
    "        out = self.fc(out)\n",
    "        \n",
    "        # return the final output and the hidden state\n",
    "        return out, hidden\n",
    "    \n",
    "    \n",
    "    def init_hidden(self, batch_size):\n",
    "        ''' Initializes hidden state '''\n",
    "        # Create two new tensors with sizes n_layers x batch_size x n_hidden,\n",
    "        # initialized to zero, for hidden state and cell state of LSTM\n",
    "        weight = next(self.parameters()).data\n",
    "        \n",
    "        if (train_on_gpu):\n",
    "            hidden = (weight.new(self.n_layers, batch_size, self.n_hidden).zero_().cuda(),\n",
    "                  weight.new(self.n_layers, batch_size, self.n_hidden).zero_().cuda())\n",
    "        else:\n",
    "            hidden = (weight.new(self.n_layers, batch_size, self.n_hidden).zero_(),\n",
    "                      weight.new(self.n_layers, batch_size, self.n_hidden).zero_())\n",
    "        \n",
    "        return hidden\n",
    "        "
   ]
  },
  {
   "cell_type": "markdown",
   "metadata": {},
   "source": [
    "## Time to train\n",
    "\n",
    "The train function gives us the ability to set the number of epochs, the learning rate, and other parameters.\n",
    "\n",
    "Below we're using an Adam optimizer and cross entropy loss since we are looking at character class scores as output. We calculate the loss and perform backpropagation, as usual!\n",
    "\n",
    "A couple of details about training: \n",
    ">* Within the batch loop, we detach the hidden state from its history; this time setting it equal to a new *tuple* variable because an LSTM has a hidden state that is a tuple of the hidden and cell states.\n",
    "* We use [`clip_grad_norm_`](https://pytorch.org/docs/stable/_modules/torch/nn/utils/clip_grad.html) to help prevent exploding gradients."
   ]
  },
  {
   "cell_type": "code",
   "execution_count": 16,
   "metadata": {},
   "outputs": [],
   "source": [
    "def train(net, data, epochs=10, batch_size=10, seq_length=50, lr=0.001, clip=5, val_frac=0.1, print_every=10):\n",
    "    ''' Training a network \n",
    "    \n",
    "        Arguments\n",
    "        ---------\n",
    "        \n",
    "        net: CharRNN network\n",
    "        data: text data to train the network\n",
    "        epochs: Number of epochs to train\n",
    "        batch_size: Number of mini-sequences per mini-batch, aka batch size\n",
    "        seq_length: Number of character steps per mini-batch\n",
    "        lr: learning rate\n",
    "        clip: gradient clipping\n",
    "        val_frac: Fraction of data to hold out for validation\n",
    "        print_every: Number of steps for printing training and validation loss\n",
    "    \n",
    "    '''\n",
    "    net.train()\n",
    "    \n",
    "    opt = torch.optim.Adam(net.parameters(), lr=lr)\n",
    "    criterion = nn.CrossEntropyLoss()\n",
    "    \n",
    "    # create training and validation data\n",
    "    val_idx = int(len(data)*(1-val_frac))\n",
    "    data, val_data = data[:val_idx], data[val_idx:]\n",
    "    \n",
    "    if(train_on_gpu):\n",
    "        net.cuda()\n",
    "    \n",
    "    counter = 0\n",
    "    n_chars = len(net.chars)\n",
    "    for e in range(epochs):\n",
    "        # initialize hidden state\n",
    "        h = net.init_hidden(batch_size)\n",
    "        \n",
    "        for x, y in get_batches(data, batch_size, seq_length):\n",
    "            counter += 1\n",
    "            \n",
    "            # One-hot encode our data and make them Torch tensors\n",
    "            x = one_hot_encode(x, n_chars)\n",
    "            inputs, targets = torch.from_numpy(x), torch.from_numpy(y)\n",
    "            \n",
    "            if(train_on_gpu):\n",
    "                inputs, targets = inputs.cuda(), targets.cuda()\n",
    "\n",
    "            # Creating new variables for the hidden state, otherwise\n",
    "            # we'd backprop through the entire training history\n",
    "            h = tuple([each.data for each in h])\n",
    "\n",
    "            # zero accumulated gradients\n",
    "            net.zero_grad()\n",
    "            \n",
    "            # get the output from the model\n",
    "            output, h = net(inputs, h)\n",
    "            \n",
    "            # calculate the loss and perform backprop\n",
    "            loss = criterion(output, targets.view(batch_size*seq_length))\n",
    "            loss.backward()\n",
    "            # `clip_grad_norm` helps prevent the exploding gradient problem in RNNs / LSTMs.\n",
    "            nn.utils.clip_grad_norm_(net.parameters(), clip)\n",
    "            opt.step()\n",
    "            \n",
    "            # loss stats\n",
    "            if counter % print_every == 0:\n",
    "                # Get validation loss\n",
    "                val_h = net.init_hidden(batch_size)\n",
    "                val_losses = []\n",
    "                net.eval()\n",
    "                for x, y in get_batches(val_data, batch_size, seq_length):\n",
    "                    # One-hot encode our data and make them Torch tensors\n",
    "                    x = one_hot_encode(x, n_chars)\n",
    "                    x, y = torch.from_numpy(x), torch.from_numpy(y)\n",
    "                    \n",
    "                    # Creating new variables for the hidden state, otherwise\n",
    "                    # we'd backprop through the entire training history\n",
    "                    val_h = tuple([each.data for each in val_h])\n",
    "                    \n",
    "                    inputs, targets = x, y\n",
    "                    if(train_on_gpu):\n",
    "                        inputs, targets = inputs.cuda(), targets.cuda()\n",
    "\n",
    "                    output, val_h = net(inputs, val_h)\n",
    "                    val_loss = criterion(output, targets.view(batch_size*seq_length))\n",
    "                \n",
    "                    val_losses.append(val_loss.item())\n",
    "                \n",
    "                net.train() # reset to train mode after iterationg through validation data\n",
    "                \n",
    "                print(\"Epoch: {}/{}...\".format(e+1, epochs),\n",
    "                      \"Step: {}...\".format(counter),\n",
    "                      \"Loss: {:.4f}...\".format(loss.item()),\n",
    "                      \"Val Loss: {:.4f}\".format(np.mean(val_losses)))"
   ]
  },
  {
   "cell_type": "markdown",
   "metadata": {},
   "source": [
    "## Instantiating the model\n",
    "\n",
    "Now we can actually train the network. First we'll create the network itself, with some given hyperparameters. Then, define the mini-batches sizes, and start training!"
   ]
  },
  {
   "cell_type": "code",
   "execution_count": 17,
   "metadata": {},
   "outputs": [
    {
     "name": "stdout",
     "output_type": "stream",
     "text": [
      "CharRNN(\n",
      "  (lstm): LSTM(83, 512, num_layers=2, batch_first=True, dropout=0.5)\n",
      "  (dropout): Dropout(p=0.5)\n",
      "  (fc): Linear(in_features=512, out_features=83, bias=True)\n",
      ")\n"
     ]
    }
   ],
   "source": [
    "## TODO: set you model hyperparameters\n",
    "# define and print the net\n",
    "n_hidden=512\n",
    "n_layers=2\n",
    "\n",
    "net = CharRNN(chars, n_hidden, n_layers)\n",
    "print(net)"
   ]
  },
  {
   "cell_type": "markdown",
   "metadata": {},
   "source": [
    "### Set your training hyperparameters!"
   ]
  },
  {
   "cell_type": "code",
   "execution_count": 18,
   "metadata": {
    "scrolled": true
   },
   "outputs": [
    {
     "name": "stdout",
     "output_type": "stream",
     "text": [
      "Epoch: 1/20... Step: 10... Loss: 3.2681... Val Loss: 3.2276\n",
      "Epoch: 1/20... Step: 20... Loss: 3.1527... Val Loss: 3.1425\n",
      "Epoch: 1/20... Step: 30... Loss: 3.1417... Val Loss: 3.1245\n",
      "Epoch: 1/20... Step: 40... Loss: 3.1168... Val Loss: 3.1187\n",
      "Epoch: 1/20... Step: 50... Loss: 3.1437... Val Loss: 3.1171\n",
      "Epoch: 1/20... Step: 60... Loss: 3.1197... Val Loss: 3.1154\n",
      "Epoch: 1/20... Step: 70... Loss: 3.1100... Val Loss: 3.1135\n",
      "Epoch: 1/20... Step: 80... Loss: 3.1202... Val Loss: 3.1085\n",
      "Epoch: 1/20... Step: 90... Loss: 3.1110... Val Loss: 3.0954\n",
      "Epoch: 1/20... Step: 100... Loss: 3.0810... Val Loss: 3.0673\n",
      "Epoch: 1/20... Step: 110... Loss: 3.0277... Val Loss: 3.0028\n",
      "Epoch: 1/20... Step: 120... Loss: 2.9205... Val Loss: 2.9305\n",
      "Epoch: 1/20... Step: 130... Loss: 2.8648... Val Loss: 2.8183\n",
      "Epoch: 2/20... Step: 140... Loss: 2.7749... Val Loss: 2.7210\n",
      "Epoch: 2/20... Step: 150... Loss: 2.6840... Val Loss: 2.6317\n",
      "Epoch: 2/20... Step: 160... Loss: 2.5852... Val Loss: 2.5497\n",
      "Epoch: 2/20... Step: 170... Loss: 2.5062... Val Loss: 2.4959\n",
      "Epoch: 2/20... Step: 180... Loss: 2.4687... Val Loss: 2.4466\n",
      "Epoch: 2/20... Step: 190... Loss: 2.4264... Val Loss: 2.4167\n",
      "Epoch: 2/20... Step: 200... Loss: 2.4083... Val Loss: 2.3788\n",
      "Epoch: 2/20... Step: 210... Loss: 2.3738... Val Loss: 2.3555\n",
      "Epoch: 2/20... Step: 220... Loss: 2.3388... Val Loss: 2.3227\n",
      "Epoch: 2/20... Step: 230... Loss: 2.3280... Val Loss: 2.2951\n",
      "Epoch: 2/20... Step: 240... Loss: 2.3067... Val Loss: 2.2677\n",
      "Epoch: 2/20... Step: 250... Loss: 2.2406... Val Loss: 2.2423\n",
      "Epoch: 2/20... Step: 260... Loss: 2.2047... Val Loss: 2.2168\n",
      "Epoch: 2/20... Step: 270... Loss: 2.2152... Val Loss: 2.2066\n",
      "Epoch: 3/20... Step: 280... Loss: 2.2102... Val Loss: 2.1673\n",
      "Epoch: 3/20... Step: 290... Loss: 2.1782... Val Loss: 2.1415\n",
      "Epoch: 3/20... Step: 300... Loss: 2.1393... Val Loss: 2.1192\n",
      "Epoch: 3/20... Step: 310... Loss: 2.1228... Val Loss: 2.0991\n",
      "Epoch: 3/20... Step: 320... Loss: 2.0851... Val Loss: 2.0759\n",
      "Epoch: 3/20... Step: 330... Loss: 2.0663... Val Loss: 2.0642\n",
      "Epoch: 3/20... Step: 340... Loss: 2.0837... Val Loss: 2.0396\n",
      "Epoch: 3/20... Step: 350... Loss: 2.0660... Val Loss: 2.0248\n",
      "Epoch: 3/20... Step: 360... Loss: 1.9997... Val Loss: 2.0062\n",
      "Epoch: 3/20... Step: 370... Loss: 2.0216... Val Loss: 1.9890\n",
      "Epoch: 3/20... Step: 380... Loss: 1.9998... Val Loss: 1.9683\n",
      "Epoch: 3/20... Step: 390... Loss: 1.9654... Val Loss: 1.9551\n",
      "Epoch: 3/20... Step: 400... Loss: 1.9395... Val Loss: 1.9367\n",
      "Epoch: 3/20... Step: 410... Loss: 1.9527... Val Loss: 1.9269\n",
      "Epoch: 4/20... Step: 420... Loss: 1.9430... Val Loss: 1.9149\n",
      "Epoch: 4/20... Step: 430... Loss: 1.9259... Val Loss: 1.8953\n",
      "Epoch: 4/20... Step: 440... Loss: 1.9134... Val Loss: 1.8833\n",
      "Epoch: 4/20... Step: 450... Loss: 1.8570... Val Loss: 1.8668\n",
      "Epoch: 4/20... Step: 460... Loss: 1.8382... Val Loss: 1.8550\n",
      "Epoch: 4/20... Step: 470... Loss: 1.8719... Val Loss: 1.8477\n",
      "Epoch: 4/20... Step: 480... Loss: 1.8570... Val Loss: 1.8317\n",
      "Epoch: 4/20... Step: 490... Loss: 1.8618... Val Loss: 1.8173\n",
      "Epoch: 4/20... Step: 500... Loss: 1.8477... Val Loss: 1.8079\n",
      "Epoch: 4/20... Step: 510... Loss: 1.8196... Val Loss: 1.7990\n",
      "Epoch: 4/20... Step: 520... Loss: 1.8342... Val Loss: 1.7857\n",
      "Epoch: 4/20... Step: 530... Loss: 1.7970... Val Loss: 1.7765\n",
      "Epoch: 4/20... Step: 540... Loss: 1.7555... Val Loss: 1.7659\n",
      "Epoch: 4/20... Step: 550... Loss: 1.7997... Val Loss: 1.7507\n",
      "Epoch: 5/20... Step: 560... Loss: 1.7655... Val Loss: 1.7475\n",
      "Epoch: 5/20... Step: 570... Loss: 1.7615... Val Loss: 1.7368\n",
      "Epoch: 5/20... Step: 580... Loss: 1.7339... Val Loss: 1.7315\n",
      "Epoch: 5/20... Step: 590... Loss: 1.7382... Val Loss: 1.7171\n",
      "Epoch: 5/20... Step: 600... Loss: 1.7256... Val Loss: 1.7103\n",
      "Epoch: 5/20... Step: 610... Loss: 1.7077... Val Loss: 1.7027\n",
      "Epoch: 5/20... Step: 620... Loss: 1.7112... Val Loss: 1.6929\n",
      "Epoch: 5/20... Step: 630... Loss: 1.7171... Val Loss: 1.6878\n",
      "Epoch: 5/20... Step: 640... Loss: 1.6907... Val Loss: 1.6787\n",
      "Epoch: 5/20... Step: 650... Loss: 1.6756... Val Loss: 1.6684\n",
      "Epoch: 5/20... Step: 660... Loss: 1.6537... Val Loss: 1.6627\n",
      "Epoch: 5/20... Step: 670... Loss: 1.6818... Val Loss: 1.6565\n",
      "Epoch: 5/20... Step: 680... Loss: 1.6790... Val Loss: 1.6448\n",
      "Epoch: 5/20... Step: 690... Loss: 1.6571... Val Loss: 1.6432\n",
      "Epoch: 6/20... Step: 700... Loss: 1.6513... Val Loss: 1.6340\n",
      "Epoch: 6/20... Step: 710... Loss: 1.6470... Val Loss: 1.6318\n",
      "Epoch: 6/20... Step: 720... Loss: 1.6252... Val Loss: 1.6257\n",
      "Epoch: 6/20... Step: 730... Loss: 1.6441... Val Loss: 1.6170\n",
      "Epoch: 6/20... Step: 740... Loss: 1.6138... Val Loss: 1.6114\n",
      "Epoch: 6/20... Step: 750... Loss: 1.5965... Val Loss: 1.6085\n",
      "Epoch: 6/20... Step: 760... Loss: 1.6254... Val Loss: 1.6010\n",
      "Epoch: 6/20... Step: 770... Loss: 1.6089... Val Loss: 1.5972\n",
      "Epoch: 6/20... Step: 780... Loss: 1.5945... Val Loss: 1.5888\n",
      "Epoch: 6/20... Step: 790... Loss: 1.5757... Val Loss: 1.5825\n",
      "Epoch: 6/20... Step: 800... Loss: 1.5867... Val Loss: 1.5781\n",
      "Epoch: 6/20... Step: 810... Loss: 1.5811... Val Loss: 1.5736\n",
      "Epoch: 6/20... Step: 820... Loss: 1.5476... Val Loss: 1.5701\n",
      "Epoch: 6/20... Step: 830... Loss: 1.5857... Val Loss: 1.5657\n",
      "Epoch: 7/20... Step: 840... Loss: 1.5427... Val Loss: 1.5584\n",
      "Epoch: 7/20... Step: 850... Loss: 1.5583... Val Loss: 1.5583\n",
      "Epoch: 7/20... Step: 860... Loss: 1.5470... Val Loss: 1.5521\n",
      "Epoch: 7/20... Step: 870... Loss: 1.5595... Val Loss: 1.5467\n",
      "Epoch: 7/20... Step: 880... Loss: 1.5600... Val Loss: 1.5413\n",
      "Epoch: 7/20... Step: 890... Loss: 1.5481... Val Loss: 1.5364\n",
      "Epoch: 7/20... Step: 900... Loss: 1.5282... Val Loss: 1.5354\n",
      "Epoch: 7/20... Step: 910... Loss: 1.5098... Val Loss: 1.5339\n",
      "Epoch: 7/20... Step: 920... Loss: 1.5351... Val Loss: 1.5311\n",
      "Epoch: 7/20... Step: 930... Loss: 1.5163... Val Loss: 1.5230\n",
      "Epoch: 7/20... Step: 940... Loss: 1.5252... Val Loss: 1.5190\n",
      "Epoch: 7/20... Step: 950... Loss: 1.5326... Val Loss: 1.5182\n",
      "Epoch: 7/20... Step: 960... Loss: 1.5296... Val Loss: 1.5149\n",
      "Epoch: 7/20... Step: 970... Loss: 1.5323... Val Loss: 1.5106\n",
      "Epoch: 8/20... Step: 980... Loss: 1.5095... Val Loss: 1.5066\n",
      "Epoch: 8/20... Step: 990... Loss: 1.5033... Val Loss: 1.4998\n",
      "Epoch: 8/20... Step: 1000... Loss: 1.4935... Val Loss: 1.4982\n",
      "Epoch: 8/20... Step: 1010... Loss: 1.5370... Val Loss: 1.4959\n",
      "Epoch: 8/20... Step: 1020... Loss: 1.5086... Val Loss: 1.4938\n",
      "Epoch: 8/20... Step: 1030... Loss: 1.4861... Val Loss: 1.4903\n",
      "Epoch: 8/20... Step: 1040... Loss: 1.4947... Val Loss: 1.4893\n",
      "Epoch: 8/20... Step: 1050... Loss: 1.4677... Val Loss: 1.4833\n",
      "Epoch: 8/20... Step: 1060... Loss: 1.4786... Val Loss: 1.4768\n",
      "Epoch: 8/20... Step: 1070... Loss: 1.4848... Val Loss: 1.4758\n",
      "Epoch: 8/20... Step: 1080... Loss: 1.4725... Val Loss: 1.4758\n",
      "Epoch: 8/20... Step: 1090... Loss: 1.4638... Val Loss: 1.4724\n",
      "Epoch: 8/20... Step: 1100... Loss: 1.4561... Val Loss: 1.4683\n",
      "Epoch: 8/20... Step: 1110... Loss: 1.4690... Val Loss: 1.4657\n",
      "Epoch: 9/20... Step: 1120... Loss: 1.4638... Val Loss: 1.4652\n",
      "Epoch: 9/20... Step: 1130... Loss: 1.4652... Val Loss: 1.4605\n",
      "Epoch: 9/20... Step: 1140... Loss: 1.4623... Val Loss: 1.4593\n",
      "Epoch: 9/20... Step: 1150... Loss: 1.4833... Val Loss: 1.4574\n",
      "Epoch: 9/20... Step: 1160... Loss: 1.4389... Val Loss: 1.4529\n",
      "Epoch: 9/20... Step: 1170... Loss: 1.4484... Val Loss: 1.4501\n",
      "Epoch: 9/20... Step: 1180... Loss: 1.4392... Val Loss: 1.4515\n",
      "Epoch: 9/20... Step: 1190... Loss: 1.4670... Val Loss: 1.4467\n",
      "Epoch: 9/20... Step: 1200... Loss: 1.4217... Val Loss: 1.4398\n",
      "Epoch: 9/20... Step: 1210... Loss: 1.4377... Val Loss: 1.4377\n",
      "Epoch: 9/20... Step: 1220... Loss: 1.4374... Val Loss: 1.4377\n",
      "Epoch: 9/20... Step: 1230... Loss: 1.4153... Val Loss: 1.4366\n",
      "Epoch: 9/20... Step: 1240... Loss: 1.4214... Val Loss: 1.4321\n",
      "Epoch: 9/20... Step: 1250... Loss: 1.4276... Val Loss: 1.4336\n",
      "Epoch: 10/20... Step: 1260... Loss: 1.4267... Val Loss: 1.4297\n",
      "Epoch: 10/20... Step: 1270... Loss: 1.4315... Val Loss: 1.4279\n",
      "Epoch: 10/20... Step: 1280... Loss: 1.4410... Val Loss: 1.4223\n",
      "Epoch: 10/20... Step: 1290... Loss: 1.4118... Val Loss: 1.4263\n",
      "Epoch: 10/20... Step: 1300... Loss: 1.4074... Val Loss: 1.4241\n",
      "Epoch: 10/20... Step: 1310... Loss: 1.4198... Val Loss: 1.4203\n",
      "Epoch: 10/20... Step: 1320... Loss: 1.3940... Val Loss: 1.4193\n",
      "Epoch: 10/20... Step: 1330... Loss: 1.4007... Val Loss: 1.4199\n",
      "Epoch: 10/20... Step: 1340... Loss: 1.3916... Val Loss: 1.4120\n"
     ]
    },
    {
     "name": "stdout",
     "output_type": "stream",
     "text": [
      "Epoch: 10/20... Step: 1350... Loss: 1.3799... Val Loss: 1.4116\n",
      "Epoch: 10/20... Step: 1360... Loss: 1.3864... Val Loss: 1.4107\n",
      "Epoch: 10/20... Step: 1370... Loss: 1.3804... Val Loss: 1.4108\n",
      "Epoch: 10/20... Step: 1380... Loss: 1.4141... Val Loss: 1.4051\n",
      "Epoch: 10/20... Step: 1390... Loss: 1.4306... Val Loss: 1.4065\n",
      "Epoch: 11/20... Step: 1400... Loss: 1.4230... Val Loss: 1.4055\n",
      "Epoch: 11/20... Step: 1410... Loss: 1.4328... Val Loss: 1.4027\n",
      "Epoch: 11/20... Step: 1420... Loss: 1.4125... Val Loss: 1.3993\n",
      "Epoch: 11/20... Step: 1430... Loss: 1.3881... Val Loss: 1.3997\n",
      "Epoch: 11/20... Step: 1440... Loss: 1.4085... Val Loss: 1.3959\n",
      "Epoch: 11/20... Step: 1450... Loss: 1.3441... Val Loss: 1.3939\n",
      "Epoch: 11/20... Step: 1460... Loss: 1.3635... Val Loss: 1.3993\n",
      "Epoch: 11/20... Step: 1470... Loss: 1.3640... Val Loss: 1.3975\n",
      "Epoch: 11/20... Step: 1480... Loss: 1.3826... Val Loss: 1.3924\n",
      "Epoch: 11/20... Step: 1490... Loss: 1.3720... Val Loss: 1.3906\n",
      "Epoch: 11/20... Step: 1500... Loss: 1.3574... Val Loss: 1.3885\n",
      "Epoch: 11/20... Step: 1510... Loss: 1.3415... Val Loss: 1.3904\n",
      "Epoch: 11/20... Step: 1520... Loss: 1.3823... Val Loss: 1.3833\n",
      "Epoch: 12/20... Step: 1530... Loss: 1.4260... Val Loss: 1.3850\n",
      "Epoch: 12/20... Step: 1540... Loss: 1.3876... Val Loss: 1.3813\n",
      "Epoch: 12/20... Step: 1550... Loss: 1.3799... Val Loss: 1.3788\n",
      "Epoch: 12/20... Step: 1560... Loss: 1.3913... Val Loss: 1.3780\n",
      "Epoch: 12/20... Step: 1570... Loss: 1.3503... Val Loss: 1.3779\n",
      "Epoch: 12/20... Step: 1580... Loss: 1.3235... Val Loss: 1.3785\n",
      "Epoch: 12/20... Step: 1590... Loss: 1.3212... Val Loss: 1.3776\n",
      "Epoch: 12/20... Step: 1600... Loss: 1.3495... Val Loss: 1.3762\n",
      "Epoch: 12/20... Step: 1610... Loss: 1.3406... Val Loss: 1.3802\n",
      "Epoch: 12/20... Step: 1620... Loss: 1.3329... Val Loss: 1.3736\n",
      "Epoch: 12/20... Step: 1630... Loss: 1.3611... Val Loss: 1.3699\n",
      "Epoch: 12/20... Step: 1640... Loss: 1.3380... Val Loss: 1.3719\n",
      "Epoch: 12/20... Step: 1650... Loss: 1.3102... Val Loss: 1.3681\n",
      "Epoch: 12/20... Step: 1660... Loss: 1.3597... Val Loss: 1.3653\n",
      "Epoch: 13/20... Step: 1670... Loss: 1.3425... Val Loss: 1.3738\n",
      "Epoch: 13/20... Step: 1680... Loss: 1.3515... Val Loss: 1.3607\n",
      "Epoch: 13/20... Step: 1690... Loss: 1.3350... Val Loss: 1.3607\n",
      "Epoch: 13/20... Step: 1700... Loss: 1.3316... Val Loss: 1.3620\n",
      "Epoch: 13/20... Step: 1710... Loss: 1.3092... Val Loss: 1.3628\n",
      "Epoch: 13/20... Step: 1720... Loss: 1.3197... Val Loss: 1.3631\n",
      "Epoch: 13/20... Step: 1730... Loss: 1.3558... Val Loss: 1.3586\n",
      "Epoch: 13/20... Step: 1740... Loss: 1.3268... Val Loss: 1.3608\n",
      "Epoch: 13/20... Step: 1750... Loss: 1.2828... Val Loss: 1.3640\n",
      "Epoch: 13/20... Step: 1760... Loss: 1.3236... Val Loss: 1.3540\n",
      "Epoch: 13/20... Step: 1770... Loss: 1.3369... Val Loss: 1.3555\n",
      "Epoch: 13/20... Step: 1780... Loss: 1.3156... Val Loss: 1.3530\n",
      "Epoch: 13/20... Step: 1790... Loss: 1.2994... Val Loss: 1.3560\n",
      "Epoch: 13/20... Step: 1800... Loss: 1.3308... Val Loss: 1.3516\n",
      "Epoch: 14/20... Step: 1810... Loss: 1.3257... Val Loss: 1.3538\n",
      "Epoch: 14/20... Step: 1820... Loss: 1.3154... Val Loss: 1.3453\n",
      "Epoch: 14/20... Step: 1830... Loss: 1.3360... Val Loss: 1.3469\n",
      "Epoch: 14/20... Step: 1840... Loss: 1.2707... Val Loss: 1.3454\n",
      "Epoch: 14/20... Step: 1850... Loss: 1.2632... Val Loss: 1.3459\n",
      "Epoch: 14/20... Step: 1860... Loss: 1.3233... Val Loss: 1.3417\n",
      "Epoch: 14/20... Step: 1870... Loss: 1.3236... Val Loss: 1.3365\n",
      "Epoch: 14/20... Step: 1880... Loss: 1.3188... Val Loss: 1.3432\n",
      "Epoch: 14/20... Step: 1890... Loss: 1.3302... Val Loss: 1.3411\n",
      "Epoch: 14/20... Step: 1900... Loss: 1.3152... Val Loss: 1.3396\n",
      "Epoch: 14/20... Step: 1910... Loss: 1.3071... Val Loss: 1.3347\n",
      "Epoch: 14/20... Step: 1920... Loss: 1.3062... Val Loss: 1.3347\n",
      "Epoch: 14/20... Step: 1930... Loss: 1.2720... Val Loss: 1.3331\n",
      "Epoch: 14/20... Step: 1940... Loss: 1.3291... Val Loss: 1.3310\n",
      "Epoch: 15/20... Step: 1950... Loss: 1.2891... Val Loss: 1.3395\n",
      "Epoch: 15/20... Step: 1960... Loss: 1.2964... Val Loss: 1.3275\n",
      "Epoch: 15/20... Step: 1970... Loss: 1.2830... Val Loss: 1.3292\n",
      "Epoch: 15/20... Step: 1980... Loss: 1.2820... Val Loss: 1.3297\n",
      "Epoch: 15/20... Step: 1990... Loss: 1.2742... Val Loss: 1.3248\n",
      "Epoch: 15/20... Step: 2000... Loss: 1.2733... Val Loss: 1.3241\n",
      "Epoch: 15/20... Step: 2010... Loss: 1.2796... Val Loss: 1.3190\n",
      "Epoch: 15/20... Step: 2020... Loss: 1.2932... Val Loss: 1.3246\n",
      "Epoch: 15/20... Step: 2030... Loss: 1.2801... Val Loss: 1.3240\n",
      "Epoch: 15/20... Step: 2040... Loss: 1.2864... Val Loss: 1.3205\n",
      "Epoch: 15/20... Step: 2050... Loss: 1.2654... Val Loss: 1.3242\n",
      "Epoch: 15/20... Step: 2060... Loss: 1.2797... Val Loss: 1.3143\n",
      "Epoch: 15/20... Step: 2070... Loss: 1.2804... Val Loss: 1.3177\n",
      "Epoch: 15/20... Step: 2080... Loss: 1.2785... Val Loss: 1.3165\n",
      "Epoch: 16/20... Step: 2090... Loss: 1.2903... Val Loss: 1.3160\n",
      "Epoch: 16/20... Step: 2100... Loss: 1.2706... Val Loss: 1.3133\n",
      "Epoch: 16/20... Step: 2110... Loss: 1.2622... Val Loss: 1.3124\n",
      "Epoch: 16/20... Step: 2120... Loss: 1.2768... Val Loss: 1.3096\n",
      "Epoch: 16/20... Step: 2130... Loss: 1.2447... Val Loss: 1.3098\n",
      "Epoch: 16/20... Step: 2140... Loss: 1.2533... Val Loss: 1.3073\n",
      "Epoch: 16/20... Step: 2150... Loss: 1.2778... Val Loss: 1.3029\n",
      "Epoch: 16/20... Step: 2160... Loss: 1.2602... Val Loss: 1.3110\n",
      "Epoch: 16/20... Step: 2170... Loss: 1.2621... Val Loss: 1.3070\n",
      "Epoch: 16/20... Step: 2180... Loss: 1.2617... Val Loss: 1.3082\n",
      "Epoch: 16/20... Step: 2190... Loss: 1.2700... Val Loss: 1.3075\n",
      "Epoch: 16/20... Step: 2200... Loss: 1.2533... Val Loss: 1.3025\n",
      "Epoch: 16/20... Step: 2210... Loss: 1.2205... Val Loss: 1.3072\n",
      "Epoch: 16/20... Step: 2220... Loss: 1.2674... Val Loss: 1.3153\n",
      "Epoch: 17/20... Step: 2230... Loss: 1.2443... Val Loss: 1.3077\n",
      "Epoch: 17/20... Step: 2240... Loss: 1.2517... Val Loss: 1.3036\n",
      "Epoch: 17/20... Step: 2250... Loss: 1.2381... Val Loss: 1.3059\n",
      "Epoch: 17/20... Step: 2260... Loss: 1.2384... Val Loss: 1.3043\n",
      "Epoch: 17/20... Step: 2270... Loss: 1.2554... Val Loss: 1.2995\n",
      "Epoch: 17/20... Step: 2280... Loss: 1.2719... Val Loss: 1.2977\n",
      "Epoch: 17/20... Step: 2290... Loss: 1.2589... Val Loss: 1.2966\n",
      "Epoch: 17/20... Step: 2300... Loss: 1.2174... Val Loss: 1.2996\n",
      "Epoch: 17/20... Step: 2310... Loss: 1.2459... Val Loss: 1.2964\n",
      "Epoch: 17/20... Step: 2320... Loss: 1.2376... Val Loss: 1.2935\n",
      "Epoch: 17/20... Step: 2330... Loss: 1.2259... Val Loss: 1.2959\n",
      "Epoch: 17/20... Step: 2340... Loss: 1.2513... Val Loss: 1.2929\n",
      "Epoch: 17/20... Step: 2350... Loss: 1.2530... Val Loss: 1.2934\n",
      "Epoch: 17/20... Step: 2360... Loss: 1.2487... Val Loss: 1.2967\n",
      "Epoch: 18/20... Step: 2370... Loss: 1.2267... Val Loss: 1.2996\n",
      "Epoch: 18/20... Step: 2380... Loss: 1.2366... Val Loss: 1.2932\n",
      "Epoch: 18/20... Step: 2390... Loss: 1.2339... Val Loss: 1.2894\n",
      "Epoch: 18/20... Step: 2400... Loss: 1.2568... Val Loss: 1.2903\n",
      "Epoch: 18/20... Step: 2410... Loss: 1.2522... Val Loss: 1.2900\n",
      "Epoch: 18/20... Step: 2420... Loss: 1.2264... Val Loss: 1.2859\n",
      "Epoch: 18/20... Step: 2430... Loss: 1.2405... Val Loss: 1.2863\n",
      "Epoch: 18/20... Step: 2440... Loss: 1.2206... Val Loss: 1.2888\n",
      "Epoch: 18/20... Step: 2450... Loss: 1.2210... Val Loss: 1.2878\n",
      "Epoch: 18/20... Step: 2460... Loss: 1.2427... Val Loss: 1.2823\n",
      "Epoch: 18/20... Step: 2470... Loss: 1.2322... Val Loss: 1.2875\n",
      "Epoch: 18/20... Step: 2480... Loss: 1.2232... Val Loss: 1.2820\n",
      "Epoch: 18/20... Step: 2490... Loss: 1.2063... Val Loss: 1.2836\n",
      "Epoch: 18/20... Step: 2500... Loss: 1.2160... Val Loss: 1.2855\n",
      "Epoch: 19/20... Step: 2510... Loss: 1.2218... Val Loss: 1.2803\n",
      "Epoch: 19/20... Step: 2520... Loss: 1.2350... Val Loss: 1.2823\n",
      "Epoch: 19/20... Step: 2530... Loss: 1.2320... Val Loss: 1.2841\n",
      "Epoch: 19/20... Step: 2540... Loss: 1.2509... Val Loss: 1.2850\n",
      "Epoch: 19/20... Step: 2550... Loss: 1.2149... Val Loss: 1.2813\n",
      "Epoch: 19/20... Step: 2560... Loss: 1.2235... Val Loss: 1.2790\n",
      "Epoch: 19/20... Step: 2570... Loss: 1.2142... Val Loss: 1.2822\n",
      "Epoch: 19/20... Step: 2580... Loss: 1.2478... Val Loss: 1.2832\n",
      "Epoch: 19/20... Step: 2590... Loss: 1.2152... Val Loss: 1.2787\n",
      "Epoch: 19/20... Step: 2600... Loss: 1.2120... Val Loss: 1.2775\n",
      "Epoch: 19/20... Step: 2610... Loss: 1.2194... Val Loss: 1.2820\n",
      "Epoch: 19/20... Step: 2620... Loss: 1.2039... Val Loss: 1.2784\n",
      "Epoch: 19/20... Step: 2630... Loss: 1.2137... Val Loss: 1.2791\n",
      "Epoch: 19/20... Step: 2640... Loss: 1.2275... Val Loss: 1.2771\n",
      "Epoch: 20/20... Step: 2650... Loss: 1.2160... Val Loss: 1.2750\n"
     ]
    },
    {
     "name": "stdout",
     "output_type": "stream",
     "text": [
      "Epoch: 20/20... Step: 2660... Loss: 1.2206... Val Loss: 1.2820\n",
      "Epoch: 20/20... Step: 2670... Loss: 1.2353... Val Loss: 1.2786\n",
      "Epoch: 20/20... Step: 2680... Loss: 1.2168... Val Loss: 1.2814\n",
      "Epoch: 20/20... Step: 2690... Loss: 1.2101... Val Loss: 1.2804\n",
      "Epoch: 20/20... Step: 2700... Loss: 1.2170... Val Loss: 1.2730\n",
      "Epoch: 20/20... Step: 2710... Loss: 1.1842... Val Loss: 1.2731\n",
      "Epoch: 20/20... Step: 2720... Loss: 1.1814... Val Loss: 1.2745\n",
      "Epoch: 20/20... Step: 2730... Loss: 1.1888... Val Loss: 1.2735\n",
      "Epoch: 20/20... Step: 2740... Loss: 1.1843... Val Loss: 1.2721\n",
      "Epoch: 20/20... Step: 2750... Loss: 1.1963... Val Loss: 1.2741\n",
      "Epoch: 20/20... Step: 2760... Loss: 1.1865... Val Loss: 1.2734\n",
      "Epoch: 20/20... Step: 2770... Loss: 1.2282... Val Loss: 1.2742\n",
      "Epoch: 20/20... Step: 2780... Loss: 1.2498... Val Loss: 1.2722\n"
     ]
    }
   ],
   "source": [
    "batch_size = 128\n",
    "seq_length = 100\n",
    "n_epochs = 20 # start small if you are just testing initial behavior\n",
    "\n",
    "# train the model\n",
    "train(net, encoded, epochs=n_epochs, batch_size=batch_size, seq_length=seq_length, lr=0.001, print_every=10)"
   ]
  },
  {
   "cell_type": "markdown",
   "metadata": {},
   "source": [
    "## Getting the best model\n",
    "\n",
    "To set your hyperparameters to get the best performance, you'll want to watch the training and validation losses. If your training loss is much lower than the validation loss, you're overfitting. Increase regularization (more dropout) or use a smaller network. If the training and validation losses are close, you're underfitting so you can increase the size of the network."
   ]
  },
  {
   "cell_type": "markdown",
   "metadata": {},
   "source": [
    "## Hyperparameters\n",
    "\n",
    "Here are the hyperparameters for the network.\n",
    "\n",
    "In defining the model:\n",
    "* `n_hidden` - The number of units in the hidden layers.\n",
    "* `n_layers` - Number of hidden LSTM layers to use.\n",
    "\n",
    "We assume that dropout probability and learning rate will be kept at the default, in this example.\n",
    "\n",
    "And in training:\n",
    "* `batch_size` - Number of sequences running through the network in one pass.\n",
    "* `seq_length` - Number of characters in the sequence the network is trained on. Larger is better typically, the network will learn more long range dependencies. But it takes longer to train. 100 is typically a good number here.\n",
    "* `lr` - Learning rate for training\n",
    "\n",
    "Here's some good advice from Andrej Karpathy on training the network. I'm going to copy it in here for your benefit, but also link to [where it originally came from](https://github.com/karpathy/char-rnn#tips-and-tricks).\n",
    "\n",
    "> ## Tips and Tricks\n",
    "\n",
    ">### Monitoring Validation Loss vs. Training Loss\n",
    ">If you're somewhat new to Machine Learning or Neural Networks it can take a bit of expertise to get good models. The most important quantity to keep track of is the difference between your training loss (printed during training) and the validation loss (printed once in a while when the RNN is run on the validation data (by default every 1000 iterations)). In particular:\n",
    "\n",
    "> - If your training loss is much lower than validation loss then this means the network might be **overfitting**. Solutions to this are to decrease your network size, or to increase dropout. For example you could try dropout of 0.5 and so on.\n",
    "> - If your training/validation loss are about equal then your model is **underfitting**. Increase the size of your model (either number of layers or the raw number of neurons per layer)\n",
    "\n",
    "> ### Approximate number of parameters\n",
    "\n",
    "> The two most important parameters that control the model are `n_hidden` and `n_layers`. I would advise that you always use `n_layers` of either 2/3. The `n_hidden` can be adjusted based on how much data you have. The two important quantities to keep track of here are:\n",
    "\n",
    "> - The number of parameters in your model. This is printed when you start training.\n",
    "> - The size of your dataset. 1MB file is approximately 1 million characters.\n",
    "\n",
    ">These two should be about the same order of magnitude. It's a little tricky to tell. Here are some examples:\n",
    "\n",
    "> - I have a 100MB dataset and I'm using the default parameter settings (which currently print 150K parameters). My data size is significantly larger (100 mil >> 0.15 mil), so I expect to heavily underfit. I am thinking I can comfortably afford to make `n_hidden` larger.\n",
    "> - I have a 10MB dataset and running a 10 million parameter model. I'm slightly nervous and I'm carefully monitoring my validation loss. If it's larger than my training loss then I may want to try to increase dropout a bit and see if that helps the validation loss.\n",
    "\n",
    "> ### Best models strategy\n",
    "\n",
    ">The winning strategy to obtaining very good models (if you have the compute time) is to always err on making the network larger (as large as you're willing to wait for it to compute) and then try different dropout values (between 0,1). Whatever model has the best validation performance (the loss, written in the checkpoint filename, low is good) is the one you should use in the end.\n",
    "\n",
    ">It is very common in deep learning to run many different models with many different hyperparameter settings, and in the end take whatever checkpoint gave the best validation performance.\n",
    "\n",
    ">By the way, the size of your training and validation splits are also parameters. Make sure you have a decent amount of data in your validation set or otherwise the validation performance will be noisy and not very informative."
   ]
  },
  {
   "cell_type": "markdown",
   "metadata": {},
   "source": [
    "## Checkpoint\n",
    "\n",
    "After training, we'll save the model so we can load it again later if we need too. Here I'm saving the parameters needed to create the same architecture, the hidden layer hyperparameters and the text characters."
   ]
  },
  {
   "cell_type": "code",
   "execution_count": 19,
   "metadata": {},
   "outputs": [],
   "source": [
    "# change the name, for saving multiple files\n",
    "model_name = 'rnn_x_epoch.net'\n",
    "\n",
    "checkpoint = {'n_hidden': net.n_hidden,\n",
    "              'n_layers': net.n_layers,\n",
    "              'state_dict': net.state_dict(),\n",
    "              'tokens': net.chars}\n",
    "\n",
    "with open(model_name, 'wb') as f:\n",
    "    torch.save(checkpoint, f)"
   ]
  },
  {
   "cell_type": "markdown",
   "metadata": {},
   "source": [
    "---\n",
    "## Making Predictions\n",
    "\n",
    "Now that the model is trained, we'll want to sample from it and make predictions about next characters! To sample, we pass in a character and have the network predict the next character. Then we take that character, pass it back in, and get another predicted character. Just keep doing this and you'll generate a bunch of text!\n",
    "\n",
    "### A note on the `predict`  function\n",
    "\n",
    "The output of our RNN is from a fully-connected layer and it outputs a **distribution of next-character scores**.\n",
    "\n",
    "> To actually get the next character, we apply a softmax function, which gives us a *probability* distribution that we can then sample to predict the next character.\n",
    "\n",
    "### Top K sampling\n",
    "\n",
    "Our predictions come from a categorical probability distribution over all the possible characters. We can make the sample text and make it more reasonable to handle (with less variables) by only considering some $K$ most probable characters. This will prevent the network from giving us completely absurd characters while allowing it to introduce some noise and randomness into the sampled text. Read more about [topk, here](https://pytorch.org/docs/stable/torch.html#torch.topk).\n"
   ]
  },
  {
   "cell_type": "code",
   "execution_count": 20,
   "metadata": {},
   "outputs": [],
   "source": [
    "def predict(net, char, h=None, top_k=None):\n",
    "        ''' Given a character, predict the next character.\n",
    "            Returns the predicted character and the hidden state.\n",
    "        '''\n",
    "        \n",
    "        # tensor inputs\n",
    "        x = np.array([[net.char2int[char]]])\n",
    "        x = one_hot_encode(x, len(net.chars))\n",
    "        inputs = torch.from_numpy(x)\n",
    "        \n",
    "        if(train_on_gpu):\n",
    "            inputs = inputs.cuda()\n",
    "        \n",
    "        # detach hidden state from history\n",
    "        h = tuple([each.data for each in h])\n",
    "        # get the output of the model\n",
    "        out, h = net(inputs, h)\n",
    "\n",
    "        # get the character probabilities\n",
    "        p = F.softmax(out, dim=1).data\n",
    "        if(train_on_gpu):\n",
    "            p = p.cpu() # move to cpu\n",
    "        \n",
    "        # get top characters\n",
    "        if top_k is None:\n",
    "            top_ch = np.arange(len(net.chars))\n",
    "        else:\n",
    "            p, top_ch = p.topk(top_k)\n",
    "            top_ch = top_ch.numpy().squeeze()\n",
    "        \n",
    "        # select the likely next character with some element of randomness\n",
    "        p = p.numpy().squeeze()\n",
    "        char = np.random.choice(top_ch, p=p/p.sum())\n",
    "        \n",
    "        # return the encoded value of the predicted char and the hidden state\n",
    "        return net.int2char[char], h"
   ]
  },
  {
   "cell_type": "markdown",
   "metadata": {},
   "source": [
    "### Priming and generating text \n",
    "\n",
    "Typically you'll want to prime the network so you can build up a hidden state. Otherwise the network will start out generating characters at random. In general the first bunch of characters will be a little rough since it hasn't built up a long history of characters to predict from."
   ]
  },
  {
   "cell_type": "code",
   "execution_count": 21,
   "metadata": {},
   "outputs": [],
   "source": [
    "def sample(net, size, prime='The', top_k=None):\n",
    "        \n",
    "    if(train_on_gpu):\n",
    "        net.cuda()\n",
    "    else:\n",
    "        net.cpu()\n",
    "    \n",
    "    net.eval() # eval mode\n",
    "    \n",
    "    # First off, run through the prime characters\n",
    "    chars = [ch for ch in prime]\n",
    "    h = net.init_hidden(1)\n",
    "    for ch in prime:\n",
    "        char, h = predict(net, ch, h, top_k=top_k)\n",
    "\n",
    "    chars.append(char)\n",
    "    \n",
    "    # Now pass in the previous character and get a new one\n",
    "    for ii in range(size):\n",
    "        char, h = predict(net, chars[-1], h, top_k=top_k)\n",
    "        chars.append(char)\n",
    "\n",
    "    return ''.join(chars)"
   ]
  },
  {
   "cell_type": "code",
   "execution_count": 22,
   "metadata": {},
   "outputs": [
    {
     "name": "stdout",
     "output_type": "stream",
     "text": [
      "Anna was at the money of\n",
      "all the same at the same. The daughter, which was saying with her\n",
      "feeting simply.\n",
      "\n",
      "\"And you weren, thene all set her,\" he thought, \"there is to\n",
      "stayed and three mind, and I shall be dreaded as the position, but he\n",
      "did not love him to helper, and thanks it all, his brother have a\n",
      "garden as to show him in the people, without myees, and that\n",
      "here always have a center three-hands and asked it, but this more\n",
      "cares in the matter, to have the same, to bright the condesting of\n",
      "seeing my position at the sounce of the fellows. He's not having\n",
      "any satisfaction of his methed or some sees. I happy she the princess would be\n",
      "but there is an interest to be a set from the music with host at the memory of the\n",
      "restrains of mearing him. I'll be the sorrow,\" said Levin, \"all the\n",
      "still said on the creak, what a partition in this.\"\n",
      "\n",
      "\"You can't see you,\" said Varenka.\n",
      "\n",
      "\"I was not thrown for you. I'm not saying as I should not agree with\n",
      "him, but you can't find the sters of that, and walked\n"
     ]
    }
   ],
   "source": [
    "print(sample(net, 1000, prime='Anna', top_k=5))"
   ]
  },
  {
   "cell_type": "markdown",
   "metadata": {},
   "source": [
    "## Loading a checkpoint"
   ]
  },
  {
   "cell_type": "code",
   "execution_count": 23,
   "metadata": {},
   "outputs": [],
   "source": [
    "# Here we have loaded in a model that trained over 20 epochs `rnn_20_epoch.net`\n",
    "with open('rnn_x_epoch.net', 'rb') as f:\n",
    "    checkpoint = torch.load(f)\n",
    "    \n",
    "loaded = CharRNN(checkpoint['tokens'], n_hidden=checkpoint['n_hidden'], n_layers=checkpoint['n_layers'])\n",
    "loaded.load_state_dict(checkpoint['state_dict'])"
   ]
  },
  {
   "cell_type": "code",
   "execution_count": 24,
   "metadata": {},
   "outputs": [
    {
     "name": "stdout",
     "output_type": "stream",
     "text": [
      "And Levin said\n",
      "that he had seen a glass of time of that the princess and the princess\n",
      "with the parent of the suncer of their hands, as she was so as\n",
      "a seeming of the station, who was not so to have the mistake\n",
      "of seemed to her he did not left all see that to hume at all as\n",
      "itself to the man and that it was on her. A confurmation of the\n",
      "starts were ashing him, she had now her fancation of a little-bod,\n",
      "an itself was something at to the pare in the step, he felt\n",
      "there was no conversation, and took over a senge of her, had been\n",
      "saying that when, the sorn of holds to believe him, and there\n",
      "was not in the coat with a few steps of conscious, but she was so\n",
      "missed.\n",
      "\n",
      "Anna went in to the position in her soul so to say and had been\n",
      "considering in the first moment in the same spot was the coar, and still all\n",
      "her eyes, and would have been satisfied.\n",
      "\n",
      "\"Alexey...\"\n",
      "\n",
      "\"Oh, no here.\"\n",
      "\n",
      "\"Yas, and you can't be a fellow to see. I don't know. And I would be\n",
      "asking that I she have that had been taken to suppose her.... What all to the\n",
      "marsh of the propenty is a moment? At a look of see, I've never seen more\n",
      "time,\" answered Stepan Arkadyevitch, with the matter, with a position\n",
      "face in his brother's atterry of the study at once, and he would be silent,\n",
      "and with a grouping means was trying to get away from behind an\n",
      "even steps. All her face that there would have some stare, as though\n",
      "as though they were never to come and begin to see him of that\n",
      "more and death, all show his brother-sidered attentions of a coller and\n",
      "conversation.\n",
      "\n",
      "\"And that you can't to say what I should have been a simple to\n",
      "his mother.\"\n",
      "\n",
      "\"Well, what do you see you were ashamed of the path?\" he said.\n",
      "\n",
      "Stepan Arkadyevitch saw that she was already at the\n",
      "sound of the study in his handsome, and that had breathed the\n",
      "father, all her hands, said that in spite of the case that\n",
      "had never had an interests and the same consciousness too who had\n",
      "been the strong wife and almost as the sinkiffice of the made the\n",
      "subject, and though the sort, that the \n"
     ]
    }
   ],
   "source": [
    "# Sample using a loaded model\n",
    "print(sample(loaded, 2000, top_k=5, prime=\"And Levin said\"))"
   ]
  },
  {
   "cell_type": "code",
   "execution_count": null,
   "metadata": {
    "collapsed": true
   },
   "outputs": [],
   "source": []
  }
 ],
 "metadata": {
  "kernelspec": {
   "display_name": "Python 3",
   "language": "python",
   "name": "python3"
  },
  "language_info": {
   "codemirror_mode": {
    "name": "ipython",
    "version": 3
   },
   "file_extension": ".py",
   "mimetype": "text/x-python",
   "name": "python",
   "nbconvert_exporter": "python",
   "pygments_lexer": "ipython3",
   "version": "3.6.8"
  }
 },
 "nbformat": 4,
 "nbformat_minor": 2
}
